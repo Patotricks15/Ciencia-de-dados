{
  "nbformat": 4,
  "nbformat_minor": 0,
  "metadata": {
    "colab": {
      "name": "Ciencia de dados para filosofia e literatura",
      "provenance": [],
      "collapsed_sections": [],
      "authorship_tag": "ABX9TyOa9AwIB+ahWEYnyGII7Gqr",
      "include_colab_link": true
    },
    "kernelspec": {
      "name": "python3",
      "display_name": "Python 3"
    }
  },
  "cells": [
    {
      "cell_type": "markdown",
      "metadata": {
        "id": "view-in-github",
        "colab_type": "text"
      },
      "source": [
        "<a href=\"https://colab.research.google.com/github/Patotricks15/Ciencia-de-dados-projetos/blob/master/Ciencia_de_dados_para_filosofia_e_literatura.ipynb\" target=\"_parent\"><img src=\"https://colab.research.google.com/assets/colab-badge.svg\" alt=\"Open In Colab\"/></a>"
      ]
    },
    {
      "cell_type": "markdown",
      "metadata": {
        "id": "rc-8bQfHUQki"
      },
      "source": [
        "Importar as bibliotecas"
      ]
    },
    {
      "cell_type": "code",
      "metadata": {
        "id": "g9soa7wBUGo_"
      },
      "source": [
        "import requests\n",
        "from bs4 import BeautifulSoup\n",
        "import pandas as pd\n",
        "import numpy as np\n",
        "from wordcloud import WordCloud\n",
        "import matplotlib.pyplot as plt"
      ],
      "execution_count": 10,
      "outputs": []
    },
    {
      "cell_type": "markdown",
      "metadata": {
        "id": "ex2RANe0UcDl"
      },
      "source": [
        "Script"
      ]
    },
    {
      "cell_type": "code",
      "metadata": {
        "id": "8i8VoYA74lkE"
      },
      "source": [
        "def citacoes(nome, pag): #Definindo nossa função\n",
        "  autor_cont = 0 #Isso aqui serve para a informação do autor aparecer só uma vez, é um contador\n",
        "  url = 'https://www.pensador.com/autor/' #Link que usaremos para webscraping\n",
        "  autor = str(nome) #Nome do autor\n",
        "  autor_nome = autor.upper().replace('_', ' ') #Trocando _ por espaco\n",
        "  pag = int(pag) #Número de páginas\n",
        "  frases_juntas = '' #Para depois juntar as frases\n",
        "  frase_final = [] #Para plotar a frase inteira depois\n",
        "  stop_words = ''' a, se, disse, apenas, melhor, acontece, agora, ainda, alguém, algum, alguma, algumas, alguns, ampla, amplas, amplo, amplos, ante, antes, ao, aos, após, aquela, aquelas, aquele, aqueles, aquilo, as, até, através,\n",
        "  cada, coisa, coisas, com, como, conhece-te, contra, contudo, da, daquele, daqueles, das, de, dela, delas, dele, deles, depois, dessa, dessas, desse, desses, desta, destas, deste, deste, destes, deve, devem, devendo, dever, deverá, deverão, deveria, deveriam, devia, deviam, disse, disso, disto, dito, diz, dizem,\n",
        "  do, dos, e, é, ela, elas, ele, eles, em, enquanto, entre, era, essa, essas, esse, esses, esta, está, estamos, estão, estas, estava, estavam, estávamos, este, estes, estou, eu, fazendo, fazer, feita, feitas, feito, feitos, foi, for, foram, fosse, fossem, grande, grandes, há, isso, isto, já, la, lá, lhe, lhes, lo,\n",
        "  mas, me, mesma, mesmas, mesmo, mesmos, meu, meus, minha, minhas, muita, muitas, muito, muitos, na, não, nas, nem, nenhum, nessa, nessas, nesta, nestas, ninguém, no, nos, nós, nossa, nossas, nosso, nossos, num, numa, nunca, o, os, ou, outra, outras, outro, outros,\n",
        "  para, pela, pelas, pelo, pelos, pequena, pequenas, pequeno, pequenos, per, perante, pode, pude, podendo, poderia, poderiam, podia, podiam, pois, por, porém, porque, posso, pouca, poucas, pouco, poucos, primeiro, primeiros, própria, próprias, próprio, próprios, quais, qual, quando, quanto, quantos, que, quem,\n",
        "  são, se, seja, sejam, sem, sempre, sendo, será, serão, seu, seus, si, sido, só, sob, sobre, sua, suas, talvez, também, tampouco, te, tem, tendo, tenha, ter, teu, teus, ti, tido, tinha, tinham, toda, todas, todavia, todo, todos, tu, tua, tuas, tudo, última, últimas, último, últimos, um, uma, umas, uns,\n",
        "  vendo, ver, vez, vindo, vir, vos, vós,''' #Palavras que serão retiradas\n",
        "  print(f'FRASES DE {autor_nome}\\n') #Mostrando o nome do autor\n",
        "  for i in range(1, pag+1): #Uma repetição pra fazer o processo inteiro de webscraping\n",
        "    url_final = url + autor + '/' + str(i) + '/' #Alterando o link para ter o nome do autor e o numero de paginas\n",
        "    req = requests.get(url_final)\n",
        "    soup = BeautifulSoup(req.content, 'html.parser')\n",
        "\n",
        "    frase_lista = soup.find_all('p', class_='frase fr')\n",
        "    sobre_lista = soup.find_all('span', class_='text')\n",
        "    sobre = str(sobre_lista).split('>')[1][:-6] #Limpeza de dados\n",
        "    if autor_cont < 1: #Fazer a descrição do autor uma única vez, se não vai repetir sempre\n",
        "      autor_cont +=1\n",
        "      print(f'Sobre o autor: {sobre}\\n\\n\\n')\n",
        "    else:\n",
        "      autor_cont +=0\n",
        "      print('')\n",
        "    for j in range(len(frase_lista)): #Unir todas as frases numa string só\n",
        "      frase = str(frase_lista[j]).split('>')[1][:-3]\n",
        "      print(f'{frase}\\n')\n",
        "      frases_juntas += frase\n",
        "      frases_juntas2 = frases_juntas.replace('.', ' ').replace(';','').lower() #Tirar ponto, virgula e colocar tudo minusculo\n",
        "    frases_juntas2 = frases_juntas2.split() #separar em palavras\n",
        "  for palavra in frases_juntas2: #Jogando essas palavras numa lista\n",
        "    if len(palavra) > 5 and palavra not in stop_words:\n",
        "      frase_final.append(palavra)\n",
        "  df = pd.DataFrame(np.array(frase_final)) #Criando um dataframe com essas palavras\n",
        "  df.columns = ['coluna']\n",
        "  grafico = df.value_counts()[:5].plot.barh(title=f'Termos mais frequentes ({autor_nome})', xlabel='') #Criando o gráfico de barras\n",
        "  display(grafico) #Mostrando o gráfico\n",
        "  nuvem = WordCloud(stopwords=stop_words, background_color='black',width=1600, height=800).generate(' '.join(df['coluna'])) #Criando uma nuvem de palavras\n",
        "  fig, ax = plt.subplots(figsize=(10,6))\n",
        "  ax.imshow(nuvem, interpolation='bilinear')\n",
        "  ax.set_axis_off()\n",
        "  plt.imshow(nuvem) #Mostrando a nuvem"
      ],
      "execution_count": 29,
      "outputs": []
    },
    {
      "cell_type": "code",
      "metadata": {
        "id": "jWWQMklqUQfX"
      },
      "source": [
        "citacoes('Adam_Smith', 1) #Uma página de Adam Smith"
      ],
      "execution_count": null,
      "outputs": []
    },
    {
      "cell_type": "code",
      "metadata": {
        "id": "DZhiX4APT50C"
      },
      "source": [
        "citacoes('Karl_Marx',2) #Duas páginas de Karl Marx"
      ],
      "execution_count": null,
      "outputs": []
    },
    {
      "cell_type": "code",
      "metadata": {
        "id": "YtHMfqF6T-1w"
      },
      "source": [
        "citacoes('Socrates', 3) #Três páginas de Sócrates"
      ],
      "execution_count": null,
      "outputs": []
    },
    {
      "cell_type": "code",
      "metadata": {
        "id": "m_Qz4YmCUK_s"
      },
      "source": [
        "citacoes('Carl_Sagan',2) #Duas páginas de Carl Sagan"
      ],
      "execution_count": null,
      "outputs": []
    }
  ]
}